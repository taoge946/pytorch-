{
 "cells": [
  {
   "cell_type": "code",
   "execution_count": 19,
   "metadata": {},
   "outputs": [],
   "source": [
    "import torch\n",
    "import numpy as np"
   ]
  },
  {
   "cell_type": "code",
   "execution_count": null,
   "metadata": {},
   "outputs": [],
   "source": [
    "torch.nn.RNNCell() #是对RNN单元的一个最简单的实现，带了cell就说明这只是一个单元结构\n",
    "                   #这个RNNcell只给出一个状态输出，并没有当前事件的输出"
   ]
  },
  {
   "cell_type": "code",
   "execution_count": 11,
   "metadata": {},
   "outputs": [],
   "source": [
    "s='Life is not easy for any of us.We must work, and above all we must believe in ourselves.We must believe that each one of us is able to do some thing well.And that we must work until we succeed.'\n"
   ]
  },
  {
   "cell_type": "code",
   "execution_count": 12,
   "metadata": {},
   "outputs": [],
   "source": [
    "import string"
   ]
  },
  {
   "cell_type": "code",
   "execution_count": 13,
   "metadata": {},
   "outputs": [
    {
     "data": {
      "text/plain": [
       "'!\"#$%&\\'()*+,-./:;<=>?@[\\\\]^_`{|}~'"
      ]
     },
     "execution_count": 13,
     "metadata": {},
     "output_type": "execute_result"
    }
   ],
   "source": [
    "string.punctuation#使用这个库来处理标点符号，这个库中是所有的标点符号，将句子中的标点符号全部去掉"
   ]
  },
  {
   "cell_type": "code",
   "execution_count": 14,
   "metadata": {},
   "outputs": [],
   "source": [
    "for c in string.punctuation:\n",
    "    s=s.replace(c,' ').lower() #将所有的标点符号用空格替换,并将所有英文字母变成小写"
   ]
  },
  {
   "cell_type": "code",
   "execution_count": 15,
   "metadata": {},
   "outputs": [
    {
     "data": {
      "text/plain": [
       "'life is not easy for any of us we must work  and above all we must believe in ourselves we must believe that each one of us is able to do some thing well and that we must work until we succeed '"
      ]
     },
     "execution_count": 15,
     "metadata": {},
     "output_type": "execute_result"
    }
   ],
   "source": [
    "s"
   ]
  },
  {
   "cell_type": "markdown",
   "metadata": {},
   "source": [
    "# 分词方式1"
   ]
  },
  {
   "cell_type": "code",
   "execution_count": 16,
   "metadata": {},
   "outputs": [
    {
     "data": {
      "text/plain": [
       "['l',\n",
       " 'i',\n",
       " 'f',\n",
       " 'e',\n",
       " ' ',\n",
       " 'i',\n",
       " 's',\n",
       " ' ',\n",
       " 'n',\n",
       " 'o',\n",
       " 't',\n",
       " ' ',\n",
       " 'e',\n",
       " 'a',\n",
       " 's',\n",
       " 'y',\n",
       " ' ',\n",
       " 'f',\n",
       " 'o',\n",
       " 'r',\n",
       " ' ',\n",
       " 'a',\n",
       " 'n',\n",
       " 'y',\n",
       " ' ',\n",
       " 'o',\n",
       " 'f',\n",
       " ' ',\n",
       " 'u',\n",
       " 's',\n",
       " ' ',\n",
       " 'w',\n",
       " 'e',\n",
       " ' ',\n",
       " 'm',\n",
       " 'u',\n",
       " 's',\n",
       " 't',\n",
       " ' ',\n",
       " 'w',\n",
       " 'o',\n",
       " 'r',\n",
       " 'k',\n",
       " ' ',\n",
       " ' ',\n",
       " 'a',\n",
       " 'n',\n",
       " 'd',\n",
       " ' ',\n",
       " 'a',\n",
       " 'b',\n",
       " 'o',\n",
       " 'v',\n",
       " 'e',\n",
       " ' ',\n",
       " 'a',\n",
       " 'l',\n",
       " 'l',\n",
       " ' ',\n",
       " 'w',\n",
       " 'e',\n",
       " ' ',\n",
       " 'm',\n",
       " 'u',\n",
       " 's',\n",
       " 't',\n",
       " ' ',\n",
       " 'b',\n",
       " 'e',\n",
       " 'l',\n",
       " 'i',\n",
       " 'e',\n",
       " 'v',\n",
       " 'e',\n",
       " ' ',\n",
       " 'i',\n",
       " 'n',\n",
       " ' ',\n",
       " 'o',\n",
       " 'u',\n",
       " 'r',\n",
       " 's',\n",
       " 'e',\n",
       " 'l',\n",
       " 'v',\n",
       " 'e',\n",
       " 's',\n",
       " ' ',\n",
       " 'w',\n",
       " 'e',\n",
       " ' ',\n",
       " 'm',\n",
       " 'u',\n",
       " 's',\n",
       " 't',\n",
       " ' ',\n",
       " 'b',\n",
       " 'e',\n",
       " 'l',\n",
       " 'i',\n",
       " 'e',\n",
       " 'v',\n",
       " 'e',\n",
       " ' ',\n",
       " 't',\n",
       " 'h',\n",
       " 'a',\n",
       " 't',\n",
       " ' ',\n",
       " 'e',\n",
       " 'a',\n",
       " 'c',\n",
       " 'h',\n",
       " ' ',\n",
       " 'o',\n",
       " 'n',\n",
       " 'e',\n",
       " ' ',\n",
       " 'o',\n",
       " 'f',\n",
       " ' ',\n",
       " 'u',\n",
       " 's',\n",
       " ' ',\n",
       " 'i',\n",
       " 's',\n",
       " ' ',\n",
       " 'a',\n",
       " 'b',\n",
       " 'l',\n",
       " 'e',\n",
       " ' ',\n",
       " 't',\n",
       " 'o',\n",
       " ' ',\n",
       " 'd',\n",
       " 'o',\n",
       " ' ',\n",
       " 's',\n",
       " 'o',\n",
       " 'm',\n",
       " 'e',\n",
       " ' ',\n",
       " 't',\n",
       " 'h',\n",
       " 'i',\n",
       " 'n',\n",
       " 'g',\n",
       " ' ',\n",
       " 'w',\n",
       " 'e',\n",
       " 'l',\n",
       " 'l',\n",
       " ' ',\n",
       " 'a',\n",
       " 'n',\n",
       " 'd',\n",
       " ' ',\n",
       " 't',\n",
       " 'h',\n",
       " 'a',\n",
       " 't',\n",
       " ' ',\n",
       " 'w',\n",
       " 'e',\n",
       " ' ',\n",
       " 'm',\n",
       " 'u',\n",
       " 's',\n",
       " 't',\n",
       " ' ',\n",
       " 'w',\n",
       " 'o',\n",
       " 'r',\n",
       " 'k',\n",
       " ' ',\n",
       " 'u',\n",
       " 'n',\n",
       " 't',\n",
       " 'i',\n",
       " 'l',\n",
       " ' ',\n",
       " 'w',\n",
       " 'e',\n",
       " ' ',\n",
       " 's',\n",
       " 'u',\n",
       " 'c',\n",
       " 'c',\n",
       " 'e',\n",
       " 'e',\n",
       " 'd',\n",
       " ' ']"
      ]
     },
     "execution_count": 16,
     "metadata": {},
     "output_type": "execute_result"
    }
   ],
   "source": [
    "list(s)"
   ]
  },
  {
   "cell_type": "markdown",
   "metadata": {},
   "source": [
    "# 分词方式2"
   ]
  },
  {
   "cell_type": "code",
   "execution_count": 18,
   "metadata": {},
   "outputs": [
    {
     "data": {
      "text/plain": [
       "['life',\n",
       " 'is',\n",
       " 'not',\n",
       " 'easy',\n",
       " 'for',\n",
       " 'any',\n",
       " 'of',\n",
       " 'us',\n",
       " 'we',\n",
       " 'must',\n",
       " 'work',\n",
       " 'and',\n",
       " 'above',\n",
       " 'all',\n",
       " 'we',\n",
       " 'must',\n",
       " 'believe',\n",
       " 'in',\n",
       " 'ourselves',\n",
       " 'we',\n",
       " 'must',\n",
       " 'believe',\n",
       " 'that',\n",
       " 'each',\n",
       " 'one',\n",
       " 'of',\n",
       " 'us',\n",
       " 'is',\n",
       " 'able',\n",
       " 'to',\n",
       " 'do',\n",
       " 'some',\n",
       " 'thing',\n",
       " 'well',\n",
       " 'and',\n",
       " 'that',\n",
       " 'we',\n",
       " 'must',\n",
       " 'work',\n",
       " 'until',\n",
       " 'we',\n",
       " 'succeed']"
      ]
     },
     "execution_count": 18,
     "metadata": {},
     "output_type": "execute_result"
    }
   ],
   "source": [
    "s.split()"
   ]
  },
  {
   "cell_type": "code",
   "execution_count": 20,
   "metadata": {},
   "outputs": [
    {
     "data": {
      "text/plain": [
       "array(['able', 'above', 'all', 'and', 'any', 'believe', 'do', 'each',\n",
       "       'easy', 'for', 'in', 'is', 'life', 'must', 'not', 'of', 'one',\n",
       "       'ourselves', 'some', 'succeed', 'that', 'thing', 'to', 'until',\n",
       "       'us', 'we', 'well', 'work'], dtype='<U9')"
      ]
     },
     "execution_count": 20,
     "metadata": {},
     "output_type": "execute_result"
    }
   ],
   "source": [
    "np.unique(s.split()) #使用np.unique来获取所有不重复的词"
   ]
  },
  {
   "cell_type": "code",
   "execution_count": 21,
   "metadata": {},
   "outputs": [],
   "source": [
    "vocab=dict((word,index) for index ,word in enumerate(np.unique(s.split())))#创建词表"
   ]
  },
  {
   "cell_type": "code",
   "execution_count": 22,
   "metadata": {},
   "outputs": [
    {
     "data": {
      "text/plain": [
       "{'able': 0,\n",
       " 'above': 1,\n",
       " 'all': 2,\n",
       " 'and': 3,\n",
       " 'any': 4,\n",
       " 'believe': 5,\n",
       " 'do': 6,\n",
       " 'each': 7,\n",
       " 'easy': 8,\n",
       " 'for': 9,\n",
       " 'in': 10,\n",
       " 'is': 11,\n",
       " 'life': 12,\n",
       " 'must': 13,\n",
       " 'not': 14,\n",
       " 'of': 15,\n",
       " 'one': 16,\n",
       " 'ourselves': 17,\n",
       " 'some': 18,\n",
       " 'succeed': 19,\n",
       " 'that': 20,\n",
       " 'thing': 21,\n",
       " 'to': 22,\n",
       " 'until': 23,\n",
       " 'us': 24,\n",
       " 'we': 25,\n",
       " 'well': 26,\n",
       " 'work': 27}"
      ]
     },
     "execution_count": 22,
     "metadata": {},
     "output_type": "execute_result"
    }
   ],
   "source": [
    "vocab"
   ]
  },
  {
   "cell_type": "code",
   "execution_count": 24,
   "metadata": {},
   "outputs": [],
   "source": [
    "s=[vocab.get(w) for w in s.split()]#讲这句话用词表表示出来"
   ]
  },
  {
   "cell_type": "code",
   "execution_count": 25,
   "metadata": {},
   "outputs": [
    {
     "data": {
      "text/plain": [
       "[12,\n",
       " 11,\n",
       " 14,\n",
       " 8,\n",
       " 9,\n",
       " 4,\n",
       " 15,\n",
       " 24,\n",
       " 25,\n",
       " 13,\n",
       " 27,\n",
       " 3,\n",
       " 1,\n",
       " 2,\n",
       " 25,\n",
       " 13,\n",
       " 5,\n",
       " 10,\n",
       " 17,\n",
       " 25,\n",
       " 13,\n",
       " 5,\n",
       " 20,\n",
       " 7,\n",
       " 16,\n",
       " 15,\n",
       " 24,\n",
       " 11,\n",
       " 0,\n",
       " 22,\n",
       " 6,\n",
       " 18,\n",
       " 21,\n",
       " 26,\n",
       " 3,\n",
       " 20,\n",
       " 25,\n",
       " 13,\n",
       " 27,\n",
       " 23,\n",
       " 25,\n",
       " 19]"
      ]
     },
     "execution_count": 25,
     "metadata": {},
     "output_type": "execute_result"
    }
   ],
   "source": [
    "s"
   ]
  },
  {
   "cell_type": "markdown",
   "metadata": {},
   "source": [
    "# 独热编码"
   ]
  },
  {
   "cell_type": "code",
   "execution_count": 26,
   "metadata": {},
   "outputs": [],
   "source": [
    "b=np.zeros((len(s),len(vocab)))#先创一个全零的张量，尺寸为实际的长度和不重复的长度，将每个位置的词的位置标志为1，其他位置还是0"
   ]
  },
  {
   "cell_type": "code",
   "execution_count": 27,
   "metadata": {},
   "outputs": [],
   "source": [
    "for index,i in enumerate(s):\n",
    "    b[index,i]=1  #比如说s的第一个单词是12，所以这个独热编码矩阵的第一行的第12列标志为1"
   ]
  },
  {
   "cell_type": "markdown",
   "metadata": {},
   "source": [
    "# 词嵌入表示"
   ]
  },
  {
   "cell_type": "code",
   "execution_count": 30,
   "metadata": {},
   "outputs": [],
   "source": [
    "em=torch.nn.Embedding(len(vocab),20)#创建一个词嵌入层，第一个参数为词库的数量（有多少不重复的单词），第二个为要映射到多长的张量上"
   ]
  },
  {
   "cell_type": "code",
   "execution_count": 33,
   "metadata": {},
   "outputs": [],
   "source": [
    "s_em=em(torch.LongTensor(s))#将s这句话映射到向量空间上，相当于将s内的42个单词映射到长度为20的张量上，这个映射是可训练的，会越来越接近单词的含义，反映单词与单词之间的关系"
   ]
  },
  {
   "cell_type": "code",
   "execution_count": null,
   "metadata": {},
   "outputs": [],
   "source": []
  }
 ],
 "metadata": {
  "interpreter": {
   "hash": "5e0cf7bb98562de34716794ec83dc094d5ce5d166fa826bddfbc7345b697c299"
  },
  "kernelspec": {
   "display_name": "Python 3.8.10 64-bit ('text': conda)",
   "name": "python3"
  },
  "language_info": {
   "codemirror_mode": {
    "name": "ipython",
    "version": 3
   },
   "file_extension": ".py",
   "mimetype": "text/x-python",
   "name": "python",
   "nbconvert_exporter": "python",
   "pygments_lexer": "ipython3",
   "version": "3.8.10"
  },
  "orig_nbformat": 4
 },
 "nbformat": 4,
 "nbformat_minor": 2
}
