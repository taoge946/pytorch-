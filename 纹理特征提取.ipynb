{
 "cells": [
  {
   "cell_type": "code",
   "execution_count": 2,
   "metadata": {},
   "outputs": [],
   "source": [
    "import cv2\n",
    "import math"
   ]
  },
  {
   "cell_type": "code",
   "execution_count": 65,
   "metadata": {},
   "outputs": [],
   "source": [
    "gray_level = 16\n",
    "workbook=xlwt.Workbook(encoding=\"utf-8\",style_compression=0) #创建对象\n",
    "worksheet=workbook.add_sheet(\"sheet1\",cell_overwrite_ok=True)#这是文件中的表单,工作表"
   ]
  },
  {
   "cell_type": "code",
   "execution_count": 64,
   "metadata": {},
   "outputs": [],
   "source": [
    "def maxGrayLevel(img):\n",
    "    max_gray_level=0\n",
    "    (height,width)=img.shape\n",
    "    print (\"图像的高宽分别为：height,width\",height,width)\n",
    "    for y in range(height):\n",
    "        for x in range(width):\n",
    "            if img[y][x] > max_gray_level:\n",
    "                max_gray_level = img[y][x]\n",
    "    print(\"max_gray_level:\",max_gray_level)\n",
    "    return max_gray_level+1\n",
    "\n",
    "def getGlcm(input,d_x,d_y):\n",
    "    srcdata=input.copy()\n",
    "    ret=[[0.0 for i in range(gray_level)] for j in range(gray_level)]\n",
    "    (height,width) = input.shape\n",
    "\n",
    "    max_gray_level=maxGrayLevel(input)\n",
    "    #若灰度级数大于gray_level，则将图像的灰度级缩小至gray_level，减小灰度共生矩阵的大小\n",
    "    if max_gray_level > gray_level:\n",
    "        for j in range(height):\n",
    "            for i in range(width):\n",
    "                srcdata[j][i] = srcdata[j][i]*gray_level / max_gray_level\n",
    "\n",
    "    for j in range(height-d_y):\n",
    "        for i in range(width-d_x):\n",
    "            rows = srcdata[j][i]\n",
    "            cols = srcdata[j + d_y][i+d_x]\n",
    "            ret[rows][cols]+=1.0\n",
    "\n",
    "    for i in range(gray_level):\n",
    "        for j in range(gray_level):\n",
    "            ret[i][j]= round(ret[i][j]/float(height*width),4)\n",
    "            worksheet.write(i,j,ret[i][j])\n",
    "    workbook.save('text.xls')\n",
    "\n",
    "    return ret\n"
   ]
  },
  {
   "cell_type": "code",
   "execution_count": 48,
   "metadata": {},
   "outputs": [],
   "source": [
    "def feature_computer(p):\n",
    "    #con:对比度反应了图像的清晰度和纹理的沟纹深浅。纹理越清晰反差越大对比度也就越大。\n",
    "    #eng:熵（Entropy, ENT）度量了图像包含信息量的随机性，表现了图像的复杂程度。当共生矩阵中所有值均相等或者像素值表现出最大的随机性时，熵最大。\n",
    "    #agm:角二阶矩（能量），图像灰度分布均匀程度和纹理粗细的度量。当图像纹理均一规则时，能量值较大；反之灰度共生矩阵的元素值相近，能量值较小。\n",
    "    #idm:反差分矩阵又称逆方差，反映了纹理的清晰程度和规则程度，纹理清晰、规律性较强、易于描述的，值较大。\n",
    "    Con=0.0\n",
    "    Eng=0.0\n",
    "    Asm=0.0\n",
    "    Idm=0.0\n",
    "    for i in range(gray_level):\n",
    "        for j in range(gray_level):\n",
    "            Con+=(i-j)*(i-j)*p[i][j]\n",
    "            Asm+=p[i][j]*p[i][j]\n",
    "            Idm+=p[i][j]/(1+(i-j)*(i-j))\n",
    "            if p[i][j]>0.0:\n",
    "                Eng+=p[i][j]*math.log(p[i][j])\n",
    "    return round(Asm,3),round(Con,3),round(-Eng,3),round(Idm,3)"
   ]
  },
  {
   "cell_type": "code",
   "execution_count": 60,
   "metadata": {},
   "outputs": [],
   "source": [
    "def test(image_name):\n",
    "    img = cv2.imread(image_name)\n",
    "    try:\n",
    "        img_shape=img.shape\n",
    "    except:\n",
    "        print ('imread error')\n",
    "        return\n",
    "    img=cv2.resize(img,(img_shape[1]//2,img_shape[0]//2),interpolation=cv2.INTER_CUBIC)\n",
    "\n",
    "    img_gray=cv2.cvtColor(img, cv2.COLOR_BGR2GRAY)\n",
    "\n",
    "    glcm_0=getGlcm(img_gray, 1,0)\n",
    "    #glcm_1=getGlcm(src_gray, 0,1)\n",
    "    #glcm_2=getGlcm(src_gray, 1,1)\n",
    "    #glcm_3=getGlcm(src_gray, -1,1)\n",
    "    print(len(glcm_0[0]))\n",
    "\n",
    "    asm,con,eng,idm=feature_computer(glcm_0)\n",
    "\n",
    "    return [asm,con,eng,idm]\n"
   ]
  },
  {
   "cell_type": "code",
   "execution_count": 61,
   "metadata": {},
   "outputs": [
    {
     "name": "stdout",
     "output_type": "stream",
     "text": [
      "图像的高宽分别为：height,width 195 329\n",
      "max_gray_level: 255\n",
      "16\n"
     ]
    },
    {
     "data": {
      "text/plain": [
       "[0.134, 3.747, 2.243, 0.46]"
      ]
     },
     "execution_count": 61,
     "metadata": {},
     "output_type": "execute_result"
    }
   ],
   "source": [
    "test('xi.jpeg')"
   ]
  },
  {
   "cell_type": "code",
   "execution_count": 52,
   "metadata": {},
   "outputs": [],
   "source": [
    "import xlwt"
   ]
  },
  {
   "cell_type": "code",
   "execution_count": 62,
   "metadata": {},
   "outputs": [
    {
     "ename": "SyntaxError",
     "evalue": "unexpected EOF while parsing (Temp/ipykernel_6116/2797301485.py, line 1)",
     "output_type": "error",
     "traceback": [
      "\u001b[1;36m  File \u001b[1;32m\"C:\\Users\\tao'ge\\AppData\\Local\\Temp/ipykernel_6116/2797301485.py\"\u001b[1;36m, line \u001b[1;32m1\u001b[0m\n\u001b[1;33m    for i in range(16):\u001b[0m\n\u001b[1;37m                       ^\u001b[0m\n\u001b[1;31mSyntaxError\u001b[0m\u001b[1;31m:\u001b[0m unexpected EOF while parsing\n"
     ]
    }
   ],
   "source": [
    "for i in range(16):\n",
    "    for j in range(16):\n",
    "        "
   ]
  },
  {
   "cell_type": "code",
   "execution_count": null,
   "metadata": {},
   "outputs": [],
   "source": []
  }
 ],
 "metadata": {
  "interpreter": {
   "hash": "5e0cf7bb98562de34716794ec83dc094d5ce5d166fa826bddfbc7345b697c299"
  },
  "kernelspec": {
   "display_name": "Python 3.8.10 64-bit ('text': conda)",
   "name": "python3"
  },
  "language_info": {
   "codemirror_mode": {
    "name": "ipython",
    "version": 3
   },
   "file_extension": ".py",
   "mimetype": "text/x-python",
   "name": "python",
   "nbconvert_exporter": "python",
   "pygments_lexer": "ipython3",
   "version": "3.8.10"
  },
  "orig_nbformat": 4
 },
 "nbformat": 4,
 "nbformat_minor": 2
}
