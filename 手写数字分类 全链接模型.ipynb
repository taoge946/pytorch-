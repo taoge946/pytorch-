{
 "cells": [
  {
   "cell_type": "code",
   "execution_count": 48,
   "metadata": {},
   "outputs": [],
   "source": [
    "import torch\n",
    "import pandas as pd\n",
    "import matplotlib.pyplot as plt\n",
    "import numpy as np\n",
    "import torchvision\n",
    "from torchvision import datasets,transforms\n",
    "from torch.utils.data import TensorDataset\n",
    "from torch.utils.data import DataLoader\n",
    "from torch import nn\n",
    "from torch.nn import functional as F\n",
    "%matplotlib inline"
   ]
  },
  {
   "cell_type": "markdown",
   "metadata": {},
   "source": [
    "# transforms.ToTensor:\n",
    "    1.将我们读取的图片或是其他类型的数据转换为tensor\n",
    "    2.将数据归一化，转换到0~1之间\n",
    "    3.会将channel这个维度放到第一维度"
   ]
  },
  {
   "cell_type": "code",
   "execution_count": 2,
   "metadata": {},
   "outputs": [],
   "source": [
    "transformation=transforms.Compose([\n",
    "    transforms.ToTensor()\n",
    "])"
   ]
  },
  {
   "cell_type": "code",
   "execution_count": 3,
   "metadata": {},
   "outputs": [],
   "source": [
    "train_ds=datasets.MNIST(\n",
    "    'data/',\n",
    "    train=True,\n",
    "    transform=transformation,\n",
    "    download=True\n",
    ")"
   ]
  },
  {
   "cell_type": "code",
   "execution_count": 4,
   "metadata": {},
   "outputs": [],
   "source": [
    "text_ds=datasets.MNIST(\n",
    "    'data/',\n",
    "    train=False,\n",
    "    transform=transformation,\n",
    "    download=True\n",
    ")"
   ]
  },
  {
   "cell_type": "code",
   "execution_count": 5,
   "metadata": {},
   "outputs": [],
   "source": [
    "train_dl=DataLoader(train_ds,batch_size=64,shuffle=True)\n",
    "text_dl=DataLoader(text_ds,batch_size=256) #验证数据集可以切片切的大一点，因为不用反向传播所以占用资源少"
   ]
  },
  {
   "cell_type": "code",
   "execution_count": 6,
   "metadata": {},
   "outputs": [],
   "source": [
    "img,label=next(iter(train_dl))  #取出一个批次的图片和标签"
   ]
  },
  {
   "cell_type": "code",
   "execution_count": 8,
   "metadata": {
    "scrolled": true
   },
   "outputs": [
    {
     "data": {
      "text/plain": [
       "torch.Size([64, 1, 28, 28])"
      ]
     },
     "execution_count": 8,
     "metadata": {},
     "output_type": "execute_result"
    }
   ],
   "source": [
    "img.shape   #看一下这个批次的图片，因为批次是64，所以有64个\n",
    "            #这四个参数分别是:batch_size,channel,high,width"
   ]
  },
  {
   "cell_type": "markdown",
   "metadata": {},
   "source": [
    "# 在pytorch里图片的表示形式就是这样的[batch_size,channel,high,width]\n",
    " ToTensor会将channel这个维度放到第一维度，这是和其他方法最大的不同，如果是电脑中的普通图片则是长宽，channel（rgb通道）"
   ]
  },
  {
   "cell_type": "code",
   "execution_count": 9,
   "metadata": {},
   "outputs": [],
   "source": [
    "image=img[0]  #取出一张图片"
   ]
  },
  {
   "cell_type": "code",
   "execution_count": 10,
   "metadata": {},
   "outputs": [
    {
     "data": {
      "text/plain": [
       "torch.Size([1, 28, 28])"
      ]
     },
     "execution_count": 10,
     "metadata": {},
     "output_type": "execute_result"
    }
   ],
   "source": [
    "image.shape"
   ]
  },
  {
   "cell_type": "code",
   "execution_count": 11,
   "metadata": {},
   "outputs": [],
   "source": [
    "image=image.numpy() #想要绘图就得用ndarray"
   ]
  },
  {
   "cell_type": "code",
   "execution_count": 12,
   "metadata": {},
   "outputs": [],
   "source": [
    "image=np.squeeze(image) #第一个维度channel没有用，去掉"
   ]
  },
  {
   "cell_type": "code",
   "execution_count": 13,
   "metadata": {},
   "outputs": [
    {
     "data": {
      "text/plain": [
       "(28, 28)"
      ]
     },
     "execution_count": 13,
     "metadata": {},
     "output_type": "execute_result"
    }
   ],
   "source": [
    "image.shape"
   ]
  },
  {
   "cell_type": "code",
   "execution_count": 14,
   "metadata": {},
   "outputs": [
    {
     "data": {
      "text/plain": [
       "<matplotlib.image.AxesImage at 0x1148f2e0>"
      ]
     },
     "execution_count": 14,
     "metadata": {},
     "output_type": "execute_result"
    },
    {
     "data": {
      "image/png": "[encoded data removed]",
      "text/plain": [
       "<Figure size 432x288 with 1 Axes>"
      ]
     },
     "metadata": {
      "needs_background": "light"
     },
     "output_type": "display_data"
    }
   ],
   "source": [
    "plt.imshow(image)"
   ]
  },
  {
   "cell_type": "code",
   "execution_count": 15,
   "metadata": {},
   "outputs": [
    {
     "data": {
      "text/plain": [
       "tensor(0)"
      ]
     },
     "execution_count": 15,
     "metadata": {},
     "output_type": "execute_result"
    }
   ],
   "source": [
    "label[0]  #这张图片就是1"
   ]
  },
  {
   "cell_type": "code",
   "execution_count": 16,
   "metadata": {},
   "outputs": [],
   "source": [
    "def imshow(img):\n",
    "    npimg=img.numpy()      #转化为numpy\n",
    "    npimg=np.squeeze(npimg)#去除第一维度\n",
    "    plt.imshow(npimg)      #显示图片"
   ]
  },
  {
   "cell_type": "code",
   "execution_count": 17,
   "metadata": {},
   "outputs": [
    {
     "data": {
      "image/png": "[encoded data removed]",
      "text/plain": [
       "<Figure size 720x72 with 10 Axes>"
      ]
     },
     "metadata": {
      "needs_background": "light"
     },
     "output_type": "display_data"
    }
   ],
   "source": [
    "plt.figure(figsize=(10,1))             #创建画布\n",
    "for i,img in enumerate(img[:10]):     #enumerate相当于是每次返回img[i]\n",
    "    plt.subplot(1,10,i+1)             #创建10张子图  三个参数分别是一行十列绘制img的第几个（img[i]）\n",
    "    imshow(img)"
   ]
  },
  {
   "cell_type": "code",
   "execution_count": 18,
   "metadata": {},
   "outputs": [
    {
     "data": {
      "text/plain": [
       "tensor([0, 2, 0, 2, 8, 4, 2, 3, 7, 9])"
      ]
     },
     "execution_count": 18,
     "metadata": {},
     "output_type": "execute_result"
    }
   ],
   "source": [
    "label[:10]"
   ]
  },
  {
   "cell_type": "markdown",
   "metadata": {},
   "source": [
    "# 将数据展平，创建全连接模型"
   ]
  },
  {
   "cell_type": "code",
   "execution_count": 33,
   "metadata": {},
   "outputs": [],
   "source": [
    "class Model(nn.Module):\n",
    "    def __init__(self):\n",
    "        super().__init__()             #继承之前的初始化\n",
    "        self.linear_1=nn.Linear(28*28,120)  #因为要展平，所以输入是28*28，输出也可以多一点\n",
    "        self.linear_2=nn.Linear(120,84)  #中间层是超参数，取多少应该根据实验得出，看取多少效果好\n",
    "        self.linear_3=nn.Linear(84,10)  #是个十分类问题，从数字0到9\n",
    "    def forward(self,input):\n",
    "        x=input.view(-1,28*28) #将输入展平\n",
    "        x=F.relu(self.linear_1(x))\n",
    "        x=F.relu(self.linear_2(x))\n",
    "        x=self.linear_3(x) #因为是多分类，用的损失函数CrossEntropyLoss\n",
    "                          #的输入是未激活的输出\n",
    "        return x"
   ]
  },
  {
   "cell_type": "code",
   "execution_count": 34,
   "metadata": {},
   "outputs": [],
   "source": [
    "model=Model()"
   ]
  },
  {
   "cell_type": "code",
   "execution_count": 35,
   "metadata": {},
   "outputs": [
    {
     "data": {
      "text/plain": [
       "Model(\n",
       "  (linear_1): Linear(in_features=784, out_features=120, bias=True)\n",
       "  (linear_2): Linear(in_features=120, out_features=84, bias=True)\n",
       "  (linear_3): Linear(in_features=84, out_features=10, bias=True)\n",
       ")"
      ]
     },
     "execution_count": 35,
     "metadata": {},
     "output_type": "execute_result"
    }
   ],
   "source": [
    "model"
   ]
  },
  {
   "cell_type": "code",
   "execution_count": 46,
   "metadata": {},
   "outputs": [],
   "source": [
    "loss_fn=nn.CrossEntropyLoss()\n",
    "opt=torch.optim.Adam(model.parameters(),lr=0.01)"
   ]
  },
  {
   "cell_type": "code",
   "execution_count": 41,
   "metadata": {},
   "outputs": [],
   "source": [
    "def fit(epoch,model,trainloader,textloader):   #因为这个函数没有输入train_x和train_y所以直接用train_dl和text_dl来算正确率\n",
    "    correct=0                            #通过记录预测正确的个数和样本总数之间的比值来看正确率\n",
    "    total=0                              #总样本的个数\n",
    "    running_loss=0\n",
    "    for x,y in trainloader:    \n",
    "        y_pred=model(x)\n",
    "        loss=loss_fn(y_pred,y)\n",
    "        opt.zero_grad()\n",
    "        loss.backward()\n",
    "        opt.step()\n",
    "        with torch.no_grad():                  #每一个y值进行一次计算，这是对训练数据\n",
    "            y_pred=torch.argmax(y_pred,dim=1)\n",
    "            correct+=(y_pred==y).sum().item()  #每一次正确的个数加到correct里\n",
    "            total+=y.size(0)                   #每一批样本的个数\n",
    "            running_loss+=loss.item()          #每一批样本的loss\n",
    "        \n",
    "        epoch_acc=correct/total                #正确率为正确个数除以样本个数\n",
    "        epoch_loss=running_loss/len(trainloader.dataset)  #平均loss为一个批次的总loss除以训练的长度\n",
    "        \n",
    "        \n",
    "        text_correct=0                          #这是对测试数据 ,对于测试数据不用反向传播不用优化\n",
    "        text_total=0                              \n",
    "        text_running_loss=0\n",
    "        with torch.no_grad():                  \n",
    "             for x,y in textloader:    \n",
    "                y_pred=model(x)\n",
    "                loss=loss_fn(y_pred,y)\n",
    "                y_pred=torch.argmax(y_pred,dim=1)\n",
    "                text_correct+=(y_pred==y).sum().item() \n",
    "                text_total+=y.size(0)                   \n",
    "                text_running_loss+=loss.item()\n",
    "        \n",
    "        epoch_text_acc=text_correct/text_total                \n",
    "        epoch_text_loss=running_loss/len(textloader.dataset)  \n",
    "        \n",
    "        print('epoch: ',epoch,'loss: ',round(epoch_loss,3),\n",
    "                              'accuracy: ',round(epoch_acc,3),\n",
    "                              'text_loss: ',round(epoch_text_loss,3),\n",
    "                              'text_accuracy: ',round(epoch_text_acc,3))\n",
    "        return epoch_loss,epoch_acc,epoch_text_loss,epoch_text_acc  \n",
    "                                                    #这样就会将每个epoch上的这些平均正确率和平均损失返回"
   ]
  },
  {
   "cell_type": "code",
   "execution_count": 42,
   "metadata": {},
   "outputs": [],
   "source": [
    "epochs=20"
   ]
  },
  {
   "cell_type": "code",
   "execution_count": 43,
   "metadata": {},
   "outputs": [],
   "source": [
    "train_loss=[] #如果想把值保存下来就创建这四个列表\n",
    "train_acc=[]\n",
    "text_loss=[]\n",
    "text_acc=[]"
   ]
  },
  {
   "cell_type": "code",
   "execution_count": 47,
   "metadata": {},
   "outputs": [
    {
     "name": "stdout",
     "output_type": "stream",
     "text": [
      "epoch:  0 loss:  0.0 accuracy:  0.828 text_loss:  0.0 text_accuracy:  0.362\n",
      "epoch:  1 loss:  0.0 accuracy:  0.297 text_loss:  0.0 text_accuracy:  0.507\n",
      "epoch:  2 loss:  0.0 accuracy:  0.438 text_loss:  0.0 text_accuracy:  0.604\n",
      "epoch:  3 loss:  0.0 accuracy:  0.703 text_loss:  0.0 text_accuracy:  0.477\n",
      "epoch:  4 loss:  0.0 accuracy:  0.5 text_loss:  0.0 text_accuracy:  0.484\n",
      "epoch:  5 loss:  0.0 accuracy:  0.453 text_loss:  0.0 text_accuracy:  0.538\n",
      "epoch:  6 loss:  0.0 accuracy:  0.562 text_loss:  0.0 text_accuracy:  0.58\n",
      "epoch:  7 loss:  0.0 accuracy:  0.578 text_loss:  0.0 text_accuracy:  0.638\n",
      "epoch:  8 loss:  0.0 accuracy:  0.641 text_loss:  0.0 text_accuracy:  0.662\n",
      "epoch:  9 loss:  0.0 accuracy:  0.547 text_loss:  0.0 text_accuracy:  0.693\n",
      "epoch:  10 loss:  0.0 accuracy:  0.672 text_loss:  0.0 text_accuracy:  0.755\n",
      "epoch:  11 loss:  0.0 accuracy:  0.797 text_loss:  0.0 text_accuracy:  0.814\n",
      "epoch:  12 loss:  0.0 accuracy:  0.844 text_loss:  0.0 text_accuracy:  0.823\n",
      "epoch:  13 loss:  0.0 accuracy:  0.828 text_loss:  0.0 text_accuracy:  0.818\n",
      "epoch:  14 loss:  0.0 accuracy:  0.766 text_loss:  0.0 text_accuracy:  0.805\n",
      "epoch:  15 loss:  0.0 accuracy:  0.781 text_loss:  0.0 text_accuracy:  0.791\n",
      "epoch:  16 loss:  0.0 accuracy:  0.828 text_loss:  0.0 text_accuracy:  0.797\n",
      "epoch:  17 loss:  0.0 accuracy:  0.828 text_loss:  0.0 text_accuracy:  0.798\n",
      "epoch:  18 loss:  0.0 accuracy:  0.781 text_loss:  0.0 text_accuracy:  0.822\n",
      "epoch:  19 loss:  0.0 accuracy:  0.781 text_loss:  0.0 text_accuracy:  0.807\n"
     ]
    }
   ],
   "source": [
    "for epoch in range(epochs):\n",
    "    epoch_loss,epoch_acc,epoch_text_loss,epoch_text_acc =fit(epoch,model,train_dl,text_dl)\n",
    "    \n",
    "    train_loss.append(epoch_loss)\n",
    "    train_acc.append(epoch_acc)\n",
    "    text_loss.append(epoch_text_loss)\n",
    "    text_acc.append(epoch_text_acc)"
   ]
  },
  {
   "cell_type": "code",
   "execution_count": null,
   "metadata": {},
   "outputs": [],
   "source": []
  }
 ],
 "metadata": {
  "kernelspec": {
   "display_name": "Python 3",
   "language": "python",
   "name": "python3"
  },
  "language_info": {
   "codemirror_mode": {
    "name": "ipython",
    "version": 3
   },
   "file_extension": ".py",
   "mimetype": "text/x-python",
   "name": "python",
   "nbconvert_exporter": "python",
   "pygments_lexer": "ipython3",
   "version": "3.8.5"
  }
 },
 "nbformat": 4,
 "nbformat_minor": 4
}
