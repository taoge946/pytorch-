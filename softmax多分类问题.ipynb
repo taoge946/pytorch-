{
 "cells": [
  {
   "cell_type": "code",
   "execution_count": 1,
   "metadata": {},
   "outputs": [],
   "source": [
    "import torch\n",
    "import numpy as np\n",
    "import pandas as pd\n",
    "import matplotlib.pyplot as plt\n",
    "from sklearn.model_selection import train_test_split\n",
    "from torch.utils.data import DataLoader\n",
    "from torch.utils.data import TensorDataset\n",
    "from torch.nn import functional as F\n",
    "from torch import nn"
   ]
  },
  {
   "cell_type": "code",
   "execution_count": 2,
   "metadata": {},
   "outputs": [],
   "source": [
    "data=pd.read_csv('iris.csv')"
   ]
  },
  {
   "cell_type": "code",
   "execution_count": 3,
   "metadata": {},
   "outputs": [
    {
     "data": {
      "text/plain": [
       "array(['setosa', 'versicolor', 'virginica'], dtype=object)"
      ]
     },
     "execution_count": 3,
     "metadata": {},
     "output_type": "execute_result"
    }
   ],
   "source": [
    "data.Species.unique()"
   ]
  },
  {
   "cell_type": "code",
   "execution_count": 4,
   "metadata": {
    "scrolled": true
   },
   "outputs": [
    {
     "data": {
      "text/html": [
       "<div>\n",
       "<style scoped>\n",
       "    .dataframe tbody tr th:only-of-type {\n",
       "        vertical-align: middle;\n",
       "    }\n",
       "\n",
       "    .dataframe tbody tr th {\n",
       "        vertical-align: top;\n",
       "    }\n",
       "\n",
       "    .dataframe thead th {\n",
       "        text-align: right;\n",
       "    }\n",
       "</style>\n",
       "<table border=\"1\" class=\"dataframe\">\n",
       "  <thead>\n",
       "    <tr style=\"text-align: right;\">\n",
       "      <th></th>\n",
       "      <th>Unnamed: 0</th>\n",
       "      <th>Sepal.Length</th>\n",
       "      <th>Sepal.Width</th>\n",
       "      <th>Petal.Length</th>\n",
       "      <th>Petal.Width</th>\n",
       "      <th>Species</th>\n",
       "    </tr>\n",
       "  </thead>\n",
       "  <tbody>\n",
       "    <tr>\n",
       "      <th>0</th>\n",
       "      <td>1</td>\n",
       "      <td>5.1</td>\n",
       "      <td>3.5</td>\n",
       "      <td>1.4</td>\n",
       "      <td>0.2</td>\n",
       "      <td>setosa</td>\n",
       "    </tr>\n",
       "    <tr>\n",
       "      <th>1</th>\n",
       "      <td>2</td>\n",
       "      <td>4.9</td>\n",
       "      <td>3.0</td>\n",
       "      <td>1.4</td>\n",
       "      <td>0.2</td>\n",
       "      <td>setosa</td>\n",
       "    </tr>\n",
       "    <tr>\n",
       "      <th>2</th>\n",
       "      <td>3</td>\n",
       "      <td>4.7</td>\n",
       "      <td>3.2</td>\n",
       "      <td>1.3</td>\n",
       "      <td>0.2</td>\n",
       "      <td>setosa</td>\n",
       "    </tr>\n",
       "    <tr>\n",
       "      <th>3</th>\n",
       "      <td>4</td>\n",
       "      <td>4.6</td>\n",
       "      <td>3.1</td>\n",
       "      <td>1.5</td>\n",
       "      <td>0.2</td>\n",
       "      <td>setosa</td>\n",
       "    </tr>\n",
       "    <tr>\n",
       "      <th>4</th>\n",
       "      <td>5</td>\n",
       "      <td>5.0</td>\n",
       "      <td>3.6</td>\n",
       "      <td>1.4</td>\n",
       "      <td>0.2</td>\n",
       "      <td>setosa</td>\n",
       "    </tr>\n",
       "    <tr>\n",
       "      <th>...</th>\n",
       "      <td>...</td>\n",
       "      <td>...</td>\n",
       "      <td>...</td>\n",
       "      <td>...</td>\n",
       "      <td>...</td>\n",
       "      <td>...</td>\n",
       "    </tr>\n",
       "    <tr>\n",
       "      <th>145</th>\n",
       "      <td>146</td>\n",
       "      <td>6.7</td>\n",
       "      <td>3.0</td>\n",
       "      <td>5.2</td>\n",
       "      <td>2.3</td>\n",
       "      <td>virginica</td>\n",
       "    </tr>\n",
       "    <tr>\n",
       "      <th>146</th>\n",
       "      <td>147</td>\n",
       "      <td>6.3</td>\n",
       "      <td>2.5</td>\n",
       "      <td>5.0</td>\n",
       "      <td>1.9</td>\n",
       "      <td>virginica</td>\n",
       "    </tr>\n",
       "    <tr>\n",
       "      <th>147</th>\n",
       "      <td>148</td>\n",
       "      <td>6.5</td>\n",
       "      <td>3.0</td>\n",
       "      <td>5.2</td>\n",
       "      <td>2.0</td>\n",
       "      <td>virginica</td>\n",
       "    </tr>\n",
       "    <tr>\n",
       "      <th>148</th>\n",
       "      <td>149</td>\n",
       "      <td>6.2</td>\n",
       "      <td>3.4</td>\n",
       "      <td>5.4</td>\n",
       "      <td>2.3</td>\n",
       "      <td>virginica</td>\n",
       "    </tr>\n",
       "    <tr>\n",
       "      <th>149</th>\n",
       "      <td>150</td>\n",
       "      <td>5.9</td>\n",
       "      <td>3.0</td>\n",
       "      <td>5.1</td>\n",
       "      <td>1.8</td>\n",
       "      <td>virginica</td>\n",
       "    </tr>\n",
       "  </tbody>\n",
       "</table>\n",
       "<p>150 rows × 6 columns</p>\n",
       "</div>"
      ],
      "text/plain": [
       "     Unnamed: 0  Sepal.Length  Sepal.Width  Petal.Length  Petal.Width  \\\n",
       "0             1           5.1          3.5           1.4          0.2   \n",
       "1             2           4.9          3.0           1.4          0.2   \n",
       "2             3           4.7          3.2           1.3          0.2   \n",
       "3             4           4.6          3.1           1.5          0.2   \n",
       "4             5           5.0          3.6           1.4          0.2   \n",
       "..          ...           ...          ...           ...          ...   \n",
       "145         146           6.7          3.0           5.2          2.3   \n",
       "146         147           6.3          2.5           5.0          1.9   \n",
       "147         148           6.5          3.0           5.2          2.0   \n",
       "148         149           6.2          3.4           5.4          2.3   \n",
       "149         150           5.9          3.0           5.1          1.8   \n",
       "\n",
       "       Species  \n",
       "0       setosa  \n",
       "1       setosa  \n",
       "2       setosa  \n",
       "3       setosa  \n",
       "4       setosa  \n",
       "..         ...  \n",
       "145  virginica  \n",
       "146  virginica  \n",
       "147  virginica  \n",
       "148  virginica  \n",
       "149  virginica  \n",
       "\n",
       "[150 rows x 6 columns]"
      ]
     },
     "execution_count": 4,
     "metadata": {},
     "output_type": "execute_result"
    }
   ],
   "source": [
    "data"
   ]
  },
  {
   "cell_type": "code",
   "execution_count": 5,
   "metadata": {},
   "outputs": [],
   "source": [
    "data['Species']=pd.factorize(data.Species)[0]"
   ]
  },
  {
   "cell_type": "code",
   "execution_count": 6,
   "metadata": {},
   "outputs": [
    {
     "data": {
      "text/html": [
       "<div>\n",
       "<style scoped>\n",
       "    .dataframe tbody tr th:only-of-type {\n",
       "        vertical-align: middle;\n",
       "    }\n",
       "\n",
       "    .dataframe tbody tr th {\n",
       "        vertical-align: top;\n",
       "    }\n",
       "\n",
       "    .dataframe thead th {\n",
       "        text-align: right;\n",
       "    }\n",
       "</style>\n",
       "<table border=\"1\" class=\"dataframe\">\n",
       "  <thead>\n",
       "    <tr style=\"text-align: right;\">\n",
       "      <th></th>\n",
       "      <th>Unnamed: 0</th>\n",
       "      <th>Sepal.Length</th>\n",
       "      <th>Sepal.Width</th>\n",
       "      <th>Petal.Length</th>\n",
       "      <th>Petal.Width</th>\n",
       "      <th>Species</th>\n",
       "    </tr>\n",
       "  </thead>\n",
       "  <tbody>\n",
       "    <tr>\n",
       "      <th>0</th>\n",
       "      <td>1</td>\n",
       "      <td>5.1</td>\n",
       "      <td>3.5</td>\n",
       "      <td>1.4</td>\n",
       "      <td>0.2</td>\n",
       "      <td>0</td>\n",
       "    </tr>\n",
       "    <tr>\n",
       "      <th>1</th>\n",
       "      <td>2</td>\n",
       "      <td>4.9</td>\n",
       "      <td>3.0</td>\n",
       "      <td>1.4</td>\n",
       "      <td>0.2</td>\n",
       "      <td>0</td>\n",
       "    </tr>\n",
       "    <tr>\n",
       "      <th>2</th>\n",
       "      <td>3</td>\n",
       "      <td>4.7</td>\n",
       "      <td>3.2</td>\n",
       "      <td>1.3</td>\n",
       "      <td>0.2</td>\n",
       "      <td>0</td>\n",
       "    </tr>\n",
       "    <tr>\n",
       "      <th>3</th>\n",
       "      <td>4</td>\n",
       "      <td>4.6</td>\n",
       "      <td>3.1</td>\n",
       "      <td>1.5</td>\n",
       "      <td>0.2</td>\n",
       "      <td>0</td>\n",
       "    </tr>\n",
       "    <tr>\n",
       "      <th>4</th>\n",
       "      <td>5</td>\n",
       "      <td>5.0</td>\n",
       "      <td>3.6</td>\n",
       "      <td>1.4</td>\n",
       "      <td>0.2</td>\n",
       "      <td>0</td>\n",
       "    </tr>\n",
       "    <tr>\n",
       "      <th>...</th>\n",
       "      <td>...</td>\n",
       "      <td>...</td>\n",
       "      <td>...</td>\n",
       "      <td>...</td>\n",
       "      <td>...</td>\n",
       "      <td>...</td>\n",
       "    </tr>\n",
       "    <tr>\n",
       "      <th>145</th>\n",
       "      <td>146</td>\n",
       "      <td>6.7</td>\n",
       "      <td>3.0</td>\n",
       "      <td>5.2</td>\n",
       "      <td>2.3</td>\n",
       "      <td>2</td>\n",
       "    </tr>\n",
       "    <tr>\n",
       "      <th>146</th>\n",
       "      <td>147</td>\n",
       "      <td>6.3</td>\n",
       "      <td>2.5</td>\n",
       "      <td>5.0</td>\n",
       "      <td>1.9</td>\n",
       "      <td>2</td>\n",
       "    </tr>\n",
       "    <tr>\n",
       "      <th>147</th>\n",
       "      <td>148</td>\n",
       "      <td>6.5</td>\n",
       "      <td>3.0</td>\n",
       "      <td>5.2</td>\n",
       "      <td>2.0</td>\n",
       "      <td>2</td>\n",
       "    </tr>\n",
       "    <tr>\n",
       "      <th>148</th>\n",
       "      <td>149</td>\n",
       "      <td>6.2</td>\n",
       "      <td>3.4</td>\n",
       "      <td>5.4</td>\n",
       "      <td>2.3</td>\n",
       "      <td>2</td>\n",
       "    </tr>\n",
       "    <tr>\n",
       "      <th>149</th>\n",
       "      <td>150</td>\n",
       "      <td>5.9</td>\n",
       "      <td>3.0</td>\n",
       "      <td>5.1</td>\n",
       "      <td>1.8</td>\n",
       "      <td>2</td>\n",
       "    </tr>\n",
       "  </tbody>\n",
       "</table>\n",
       "<p>150 rows × 6 columns</p>\n",
       "</div>"
      ],
      "text/plain": [
       "     Unnamed: 0  Sepal.Length  Sepal.Width  Petal.Length  Petal.Width  Species\n",
       "0             1           5.1          3.5           1.4          0.2        0\n",
       "1             2           4.9          3.0           1.4          0.2        0\n",
       "2             3           4.7          3.2           1.3          0.2        0\n",
       "3             4           4.6          3.1           1.5          0.2        0\n",
       "4             5           5.0          3.6           1.4          0.2        0\n",
       "..          ...           ...          ...           ...          ...      ...\n",
       "145         146           6.7          3.0           5.2          2.3        2\n",
       "146         147           6.3          2.5           5.0          1.9        2\n",
       "147         148           6.5          3.0           5.2          2.0        2\n",
       "148         149           6.2          3.4           5.4          2.3        2\n",
       "149         150           5.9          3.0           5.1          1.8        2\n",
       "\n",
       "[150 rows x 6 columns]"
      ]
     },
     "execution_count": 6,
     "metadata": {},
     "output_type": "execute_result"
    }
   ],
   "source": [
    "data"
   ]
  },
  {
   "cell_type": "code",
   "execution_count": 7,
   "metadata": {},
   "outputs": [],
   "source": [
    "X=torch.from_numpy(data.iloc[:,1:-1].values).type(torch.float32)\n",
    "Y=torch.from_numpy(data.Species.values).type(torch.LongTensor)"
   ]
  },
  {
   "cell_type": "code",
   "execution_count": 8,
   "metadata": {},
   "outputs": [
    {
     "data": {
      "text/plain": [
       "torch.Size([150])"
      ]
     },
     "execution_count": 8,
     "metadata": {},
     "output_type": "execute_result"
    }
   ],
   "source": [
    "Y.shape"
   ]
  },
  {
   "cell_type": "code",
   "execution_count": 9,
   "metadata": {},
   "outputs": [],
   "source": [
    "train_x,text_x,train_y,text_y=train_test_split(X,Y)\n"
   ]
  },
  {
   "cell_type": "code",
   "execution_count": 10,
   "metadata": {},
   "outputs": [],
   "source": [
    "train_ds=TensorDataset(train_x,train_y)\n",
    "train_dl=DataLoader(train_ds,batch_size=8,shuffle=True)\n",
    "text_ds=TensorDataset(text_x,text_y)\n",
    "text_dl=DataLoader(text_ds,batch_size=8)"
   ]
  },
  {
   "cell_type": "markdown",
   "metadata": {},
   "source": [
    "# 创建模型"
   ]
  },
  {
   "cell_type": "code",
   "execution_count": 11,
   "metadata": {},
   "outputs": [],
   "source": [
    "class Model(nn.Module):\n",
    "    def __init__(self):\n",
    "        super().__init__()             #继承之前的初始化\n",
    "        self.linear_1=nn.Linear(4,32)  #因为数据集比较小，所以中间层可以少一点\n",
    "        self.linear_2=nn.Linear(32,32)\n",
    "        self.linear_3=nn.Linear(32,3)  #是个三分类问题，所以最后输出撒个概率\n",
    "    def forward(self,input):\n",
    "        x=F.relu(self.linear_1(input))\n",
    "        x=F.relu(self.linear_2(x))\n",
    "        x=self.linear_3(x)             #因为是多分类，用的损失函数CrossEntropyLoss\n",
    "                                       #的输入是未激活的输出\n",
    "        return x"
   ]
  },
  {
   "cell_type": "code",
   "execution_count": 12,
   "metadata": {},
   "outputs": [],
   "source": [
    "loss_fn=nn.CrossEntropyLoss()   #使用这个损失函数来计算多分类问题的损失"
   ]
  },
  {
   "cell_type": "code",
   "execution_count": 13,
   "metadata": {},
   "outputs": [],
   "source": [
    "model=Model()"
   ]
  },
  {
   "cell_type": "code",
   "execution_count": 14,
   "metadata": {},
   "outputs": [],
   "source": [
    "input_batch,label_batch=next(iter(train_dl))  #iter是生成器，next返回批次的张量\n",
    "                         #next可以将乱序切片后的数据拆分出X和Y,next需要iter类型的数据，所以先转换成iter"
   ]
  },
  {
   "cell_type": "code",
   "execution_count": 15,
   "metadata": {},
   "outputs": [
    {
     "data": {
      "text/plain": [
       "[tensor([[5.8000, 2.7000, 5.1000, 1.9000],\n",
       "         [4.8000, 3.0000, 1.4000, 0.3000],\n",
       "         [6.4000, 2.8000, 5.6000, 2.1000],\n",
       "         [6.4000, 2.9000, 4.3000, 1.3000],\n",
       "         [5.4000, 3.9000, 1.3000, 0.4000],\n",
       "         [5.0000, 3.5000, 1.3000, 0.3000],\n",
       "         [6.5000, 3.2000, 5.1000, 2.0000],\n",
       "         [5.5000, 4.2000, 1.4000, 0.2000]]),\n",
       " tensor([2, 0, 2, 1, 0, 0, 2, 0])]"
      ]
     },
     "execution_count": 15,
     "metadata": {},
     "output_type": "execute_result"
    }
   ],
   "source": [
    "next(iter(train_dl))"
   ]
  },
  {
   "cell_type": "code",
   "execution_count": 16,
   "metadata": {},
   "outputs": [
    {
     "data": {
      "text/plain": [
       "(tensor([[6.7000, 3.1000, 5.6000, 2.4000],\n",
       "         [5.8000, 2.7000, 5.1000, 1.9000],\n",
       "         [4.9000, 3.0000, 1.4000, 0.2000],\n",
       "         [6.4000, 2.8000, 5.6000, 2.2000],\n",
       "         [6.3000, 2.5000, 4.9000, 1.5000],\n",
       "         [7.0000, 3.2000, 4.7000, 1.4000],\n",
       "         [5.8000, 2.8000, 5.1000, 2.4000],\n",
       "         [5.9000, 3.2000, 4.8000, 1.8000],\n",
       "         [5.1000, 3.4000, 1.5000, 0.2000],\n",
       "         [6.0000, 2.7000, 5.1000, 1.6000],\n",
       "         [5.1000, 3.8000, 1.9000, 0.4000],\n",
       "         [5.4000, 3.9000, 1.3000, 0.4000],\n",
       "         [5.8000, 2.7000, 3.9000, 1.2000],\n",
       "         [4.8000, 3.4000, 1.9000, 0.2000],\n",
       "         [6.1000, 2.9000, 4.7000, 1.4000],\n",
       "         [5.6000, 3.0000, 4.5000, 1.5000],\n",
       "         [5.1000, 2.5000, 3.0000, 1.1000],\n",
       "         [6.7000, 3.3000, 5.7000, 2.1000],\n",
       "         [5.0000, 3.5000, 1.6000, 0.6000],\n",
       "         [5.7000, 2.5000, 5.0000, 2.0000],\n",
       "         [6.1000, 2.8000, 4.0000, 1.3000],\n",
       "         [4.6000, 3.1000, 1.5000, 0.2000],\n",
       "         [6.9000, 3.1000, 5.4000, 2.1000],\n",
       "         [5.9000, 3.0000, 5.1000, 1.8000],\n",
       "         [6.1000, 3.0000, 4.9000, 1.8000],\n",
       "         [5.7000, 2.6000, 3.5000, 1.0000],\n",
       "         [5.5000, 2.5000, 4.0000, 1.3000],\n",
       "         [6.4000, 2.8000, 5.6000, 2.1000],\n",
       "         [6.3000, 3.3000, 4.7000, 1.6000],\n",
       "         [6.7000, 3.3000, 5.7000, 2.5000],\n",
       "         [5.0000, 3.6000, 1.4000, 0.2000],\n",
       "         [6.8000, 3.0000, 5.5000, 2.1000],\n",
       "         [6.2000, 2.9000, 4.3000, 1.3000],\n",
       "         [6.3000, 2.3000, 4.4000, 1.3000],\n",
       "         [5.0000, 2.0000, 3.5000, 1.0000],\n",
       "         [5.1000, 3.5000, 1.4000, 0.2000],\n",
       "         [6.8000, 3.2000, 5.9000, 2.3000],\n",
       "         [5.2000, 4.1000, 1.5000, 0.1000],\n",
       "         [5.0000, 3.3000, 1.4000, 0.2000],\n",
       "         [6.5000, 2.8000, 4.6000, 1.5000],\n",
       "         [6.2000, 2.2000, 4.5000, 1.5000],\n",
       "         [6.0000, 2.2000, 5.0000, 1.5000],\n",
       "         [4.4000, 3.0000, 1.3000, 0.2000],\n",
       "         [5.1000, 3.7000, 1.5000, 0.4000],\n",
       "         [6.6000, 3.0000, 4.4000, 1.4000],\n",
       "         [6.9000, 3.1000, 4.9000, 1.5000],\n",
       "         [7.7000, 2.8000, 6.7000, 2.0000],\n",
       "         [6.7000, 2.5000, 5.8000, 1.8000],\n",
       "         [6.3000, 3.3000, 6.0000, 2.5000],\n",
       "         [6.0000, 2.9000, 4.5000, 1.5000],\n",
       "         [5.0000, 2.3000, 3.3000, 1.0000],\n",
       "         [6.4000, 2.9000, 4.3000, 1.3000],\n",
       "         [5.8000, 2.6000, 4.0000, 1.2000],\n",
       "         [5.4000, 3.4000, 1.7000, 0.2000],\n",
       "         [6.5000, 3.0000, 5.8000, 2.2000],\n",
       "         [6.1000, 2.8000, 4.7000, 1.2000],\n",
       "         [6.5000, 3.2000, 5.1000, 2.0000],\n",
       "         [5.0000, 3.2000, 1.2000, 0.2000],\n",
       "         [5.4000, 3.9000, 1.7000, 0.4000],\n",
       "         [5.4000, 3.0000, 4.5000, 1.5000],\n",
       "         [6.4000, 3.2000, 4.5000, 1.5000],\n",
       "         [6.5000, 3.0000, 5.2000, 2.0000],\n",
       "         [4.6000, 3.2000, 1.4000, 0.2000],\n",
       "         [4.9000, 3.1000, 1.5000, 0.1000],\n",
       "         [5.4000, 3.4000, 1.5000, 0.4000],\n",
       "         [4.4000, 2.9000, 1.4000, 0.2000],\n",
       "         [5.6000, 2.5000, 3.9000, 1.1000],\n",
       "         [4.6000, 3.4000, 1.4000, 0.3000],\n",
       "         [4.9000, 2.4000, 3.3000, 1.0000],\n",
       "         [5.0000, 3.5000, 1.3000, 0.3000],\n",
       "         [5.6000, 2.8000, 4.9000, 2.0000],\n",
       "         [4.8000, 3.1000, 1.6000, 0.2000],\n",
       "         [5.2000, 3.4000, 1.4000, 0.2000],\n",
       "         [5.4000, 3.7000, 1.5000, 0.2000],\n",
       "         [5.7000, 3.0000, 4.2000, 1.2000],\n",
       "         [5.5000, 2.4000, 3.7000, 1.0000],\n",
       "         [6.4000, 3.1000, 5.5000, 1.8000],\n",
       "         [5.6000, 2.7000, 4.2000, 1.3000],\n",
       "         [6.2000, 2.8000, 4.8000, 1.8000],\n",
       "         [7.7000, 3.0000, 6.1000, 2.3000],\n",
       "         [4.9000, 3.6000, 1.4000, 0.1000],\n",
       "         [4.7000, 3.2000, 1.6000, 0.2000],\n",
       "         [6.4000, 2.7000, 5.3000, 1.9000],\n",
       "         [6.3000, 2.7000, 4.9000, 1.8000],\n",
       "         [5.8000, 2.7000, 5.1000, 1.9000],\n",
       "         [7.2000, 3.2000, 6.0000, 1.8000],\n",
       "         [6.0000, 3.0000, 4.8000, 1.8000],\n",
       "         [6.4000, 3.2000, 5.3000, 2.3000],\n",
       "         [5.6000, 3.0000, 4.1000, 1.3000],\n",
       "         [4.8000, 3.0000, 1.4000, 0.3000],\n",
       "         [7.7000, 3.8000, 6.7000, 2.2000],\n",
       "         [5.1000, 3.8000, 1.5000, 0.3000],\n",
       "         [6.3000, 3.4000, 5.6000, 2.4000],\n",
       "         [5.0000, 3.4000, 1.6000, 0.4000],\n",
       "         [5.5000, 4.2000, 1.4000, 0.2000],\n",
       "         [5.5000, 2.3000, 4.0000, 1.3000],\n",
       "         [6.6000, 2.9000, 4.6000, 1.3000],\n",
       "         [4.4000, 3.2000, 1.3000, 0.2000],\n",
       "         [6.2000, 3.4000, 5.4000, 2.3000],\n",
       "         [6.9000, 3.2000, 5.7000, 2.3000],\n",
       "         [4.6000, 3.6000, 1.0000, 0.2000],\n",
       "         [5.5000, 2.6000, 4.4000, 1.2000],\n",
       "         [4.9000, 3.1000, 1.5000, 0.2000],\n",
       "         [6.0000, 2.2000, 4.0000, 1.0000],\n",
       "         [5.8000, 4.0000, 1.2000, 0.2000],\n",
       "         [7.2000, 3.6000, 6.1000, 2.5000],\n",
       "         [7.4000, 2.8000, 6.1000, 1.9000],\n",
       "         [5.1000, 3.5000, 1.4000, 0.3000],\n",
       "         [5.9000, 3.0000, 4.2000, 1.5000],\n",
       "         [4.7000, 3.2000, 1.3000, 0.2000],\n",
       "         [6.0000, 3.4000, 4.5000, 1.6000],\n",
       "         [5.7000, 4.4000, 1.5000, 0.4000]]),\n",
       " tensor([2, 2, 0, 2, 1, 1, 2, 1, 0, 1, 0, 0, 1, 0, 1, 1, 1, 2, 0, 2, 1, 0, 2, 2,\n",
       "         2, 1, 1, 2, 1, 2, 0, 2, 1, 1, 1, 0, 2, 0, 0, 1, 1, 2, 0, 0, 1, 1, 2, 2,\n",
       "         2, 1, 1, 1, 1, 0, 2, 1, 2, 0, 0, 1, 1, 2, 0, 0, 0, 0, 1, 0, 1, 0, 2, 0,\n",
       "         0, 0, 1, 1, 2, 1, 2, 2, 0, 0, 2, 2, 2, 2, 2, 2, 1, 0, 2, 0, 2, 0, 0, 1,\n",
       "         1, 0, 2, 2, 0, 1, 0, 1, 0, 2, 2, 0, 1, 0, 1, 0]))"
      ]
     },
     "execution_count": 16,
     "metadata": {},
     "output_type": "execute_result"
    }
   ],
   "source": [
    "train_x,train_y"
   ]
  },
  {
   "cell_type": "code",
   "execution_count": 17,
   "metadata": {},
   "outputs": [
    {
     "data": {
      "text/plain": [
       "(torch.Size([8, 4]), torch.Size([8]))"
      ]
     },
     "execution_count": 17,
     "metadata": {},
     "output_type": "execute_result"
    }
   ],
   "source": [
    "input_batch.shape,label_batch.shape  #上面设置的切片个数是8，所以8个一批次\n",
    "                                     #4个输入特征，一个输出"
   ]
  },
  {
   "cell_type": "code",
   "execution_count": 18,
   "metadata": {},
   "outputs": [],
   "source": [
    "y_pred=model(input_batch)"
   ]
  },
  {
   "cell_type": "code",
   "execution_count": 19,
   "metadata": {},
   "outputs": [
    {
     "data": {
      "text/plain": [
       "torch.Size([8, 3])"
      ]
     },
     "execution_count": 19,
     "metadata": {},
     "output_type": "execute_result"
    }
   ],
   "source": [
    "y_pred.shape \n",
    "        #8个输入的预测结果都变成了一个长度为3的张量，哪个的取值最大结果就应该是那个"
   ]
  },
  {
   "cell_type": "code",
   "execution_count": 20,
   "metadata": {},
   "outputs": [
    {
     "data": {
      "text/plain": [
       "tensor([[ 0.3066, -0.0122,  0.2778],\n",
       "        [ 0.5124,  0.0178,  0.7007],\n",
       "        [ 0.4608, -0.1014,  0.5913],\n",
       "        [ 0.5008, -0.0814,  0.6320],\n",
       "        [ 0.4417, -0.0876,  0.5833],\n",
       "        [ 0.4156, -0.1243,  0.5364],\n",
       "        [ 0.5079, -0.0555,  0.6616],\n",
       "        [ 0.4387, -0.0729,  0.5778]], grad_fn=<AddmmBackward>)"
      ]
     },
     "execution_count": 20,
     "metadata": {},
     "output_type": "execute_result"
    }
   ],
   "source": [
    "y_pred"
   ]
  },
  {
   "cell_type": "code",
   "execution_count": 21,
   "metadata": {},
   "outputs": [
    {
     "data": {
      "text/plain": [
       "tensor([0, 2, 2, 2, 2, 2, 2, 2])"
      ]
     },
     "execution_count": 21,
     "metadata": {},
     "output_type": "execute_result"
    }
   ],
   "source": [
    "torch.argmax(y_pred,dim=1)   #选出预测值3维中最大的那个维度的值"
   ]
  },
  {
   "cell_type": "markdown",
   "metadata": {},
   "source": [
    "# 创建训练函数"
   ]
  },
  {
   "cell_type": "code",
   "execution_count": 22,
   "metadata": {},
   "outputs": [],
   "source": [
    "def accuracy(y_pred,y_true):        #正确率计算函数\n",
    "    y_pred=torch.argmax(y_pred,dim=1)\n",
    "    acc=(y_pred==y_true).float().mean()\n",
    "    return acc"
   ]
  },
  {
   "cell_type": "code",
   "execution_count": 23,
   "metadata": {},
   "outputs": [],
   "source": [
    "train_loss=[] #创建几个空的列表来存放数据,方便绘图，看看模型怎么样\n",
    "train_acc=[]\n",
    "text_loss=[]\n",
    "text_acc=[]"
   ]
  },
  {
   "cell_type": "code",
   "execution_count": 24,
   "metadata": {},
   "outputs": [],
   "source": [
    "optim=torch.optim.Adam(model.parameters(),lr=0.001)"
   ]
  },
  {
   "cell_type": "code",
   "execution_count": 25,
   "metadata": {},
   "outputs": [
    {
     "name": "stdout",
     "output_type": "stream",
     "text": [
      "epoch:  0 loss:  1.024 accuracy:  0.652 text_loss:  1.02 text_accuracy:  0.658\n",
      "epoch:  1 loss:  0.971 accuracy:  0.688 text_loss:  0.973 text_accuracy:  0.711\n",
      "epoch:  2 loss:  0.913 accuracy:  0.705 text_loss:  0.916 text_accuracy:  0.711\n",
      "epoch:  3 loss:  0.848 accuracy:  0.67 text_loss:  0.852 text_accuracy:  0.684\n",
      "epoch:  4 loss:  0.778 accuracy:  0.857 text_loss:  0.787 text_accuracy:  0.842\n",
      "epoch:  5 loss:  0.701 accuracy:  0.795 text_loss:  0.708 text_accuracy:  0.789\n",
      "epoch:  6 loss:  0.627 accuracy:  0.875 text_loss:  0.639 text_accuracy:  0.868\n",
      "epoch:  7 loss:  0.567 accuracy:  0.777 text_loss:  0.573 text_accuracy:  0.789\n",
      "epoch:  8 loss:  0.511 accuracy:  0.929 text_loss:  0.525 text_accuracy:  0.947\n",
      "epoch:  9 loss:  0.464 accuracy:  0.92 text_loss:  0.478 text_accuracy:  0.947\n",
      "epoch:  10 loss:  0.424 accuracy:  0.946 text_loss:  0.44 text_accuracy:  0.947\n",
      "epoch:  11 loss:  0.391 accuracy:  0.955 text_loss:  0.409 text_accuracy:  1.0\n",
      "epoch:  12 loss:  0.364 accuracy:  0.946 text_loss:  0.377 text_accuracy:  0.974\n",
      "epoch:  13 loss:  0.337 accuracy:  0.955 text_loss:  0.355 text_accuracy:  1.0\n",
      "epoch:  14 loss:  0.313 accuracy:  0.955 text_loss:  0.331 text_accuracy:  1.0\n",
      "epoch:  15 loss:  0.292 accuracy:  0.973 text_loss:  0.312 text_accuracy:  1.0\n",
      "epoch:  16 loss:  0.272 accuracy:  0.964 text_loss:  0.288 text_accuracy:  1.0\n",
      "epoch:  17 loss:  0.256 accuracy:  0.973 text_loss:  0.273 text_accuracy:  1.0\n",
      "epoch:  18 loss:  0.242 accuracy:  0.964 text_loss:  0.255 text_accuracy:  1.0\n",
      "epoch:  19 loss:  0.228 accuracy:  0.973 text_loss:  0.248 text_accuracy:  1.0\n"
     ]
    }
   ],
   "source": [
    "for epoch in range(20):\n",
    "    for x,y in train_dl:\n",
    "        y_pred=model(x)\n",
    "        loss=loss_fn(y_pred,y)\n",
    "        optim.zero_grad()\n",
    "        loss.backward()\n",
    "        optim.step()\n",
    "    with torch.no_grad():\n",
    "        epoch_accuracy=accuracy(model(train_x),train_y)  \n",
    "        epoch_loss=loss_fn(model(train_x),train_y).data\n",
    "        epoch_text_accuracy=accuracy(model(text_x),text_y)  \n",
    "        epoch_text_loss=loss_fn(model(text_x),text_y).data\n",
    "        print('epoch: ',epoch,'loss: ',round(epoch_loss.item(),3),\n",
    "                              'accuracy: ',round(epoch_accuracy.item(),3),\n",
    "                              'text_loss: ',round(epoch_text_loss.item(),3),\n",
    "                              'text_accuracy: ',round(epoch_text_accuracy.item(),3))\n",
    "        train_loss.append(epoch_loss)\n",
    "        train_acc.append(epoch_accuracy)\n",
    "        text_loss.append(epoch_text_loss)\n",
    "        text_acc.append(epoch_text_accuracy)"
   ]
  },
  {
   "cell_type": "code",
   "execution_count": 26,
   "metadata": {},
   "outputs": [
    {
     "data": {
      "text/plain": [
       "Text(0, 0.5, 'loss')"
      ]
     },
     "execution_count": 26,
     "metadata": {},
     "output_type": "execute_result"
    },
    {
     "data": {
      "image/png": "[encoded data removed]",
      "text/plain": [
       "<Figure size 432x288 with 1 Axes>"
      ]
     },
     "metadata": {
      "needs_background": "light"
     },
     "output_type": "display_data"
    }
   ],
   "source": [
    "plt.plot(range(1,21),train_loss,label='train_loss')\n",
    "plt.plot(range(1,21),text_loss,label='text_loss')\n",
    "plt.legend()\n",
    "plt.ylabel('loss')"
   ]
  },
  {
   "cell_type": "code",
   "execution_count": 27,
   "metadata": {},
   "outputs": [
    {
     "data": {
      "text/plain": [
       "Text(0, 0.5, 'acc')"
      ]
     },
     "execution_count": 27,
     "metadata": {},
     "output_type": "execute_result"
    },
    {
     "data": {
      "image/png": "[encoded data removed]",
      "text/plain": [
       "<Figure size 432x288 with 1 Axes>"
      ]
     },
     "metadata": {
      "needs_background": "light"
     },
     "output_type": "display_data"
    }
   ],
   "source": [
    "plt.plot(range(1,21),train_acc,label='train_acc')\n",
    "plt.plot(range(1,21),text_acc,label='text_acc')\n",
    "plt.legend()\n",
    "plt.ylabel('acc')"
   ]
  },
  {
   "cell_type": "markdown",
   "metadata": {},
   "source": [
    "# 创建fit函数"
   ]
  },
  {
   "cell_type": "markdown",
   "metadata": {},
   "source": [
    "编写一个fit函数，以后训练的时候都可以直接调用，fit的参数为输入模型和输入数据\n",
    "（train_dl,text_dl），对输入数据再模型上做一个训练并且返回loss和acc变化"
   ]
  },
  {
   "cell_type": "code",
   "execution_count": 28,
   "metadata": {},
   "outputs": [],
   "source": [
    "def fit(epoch,model,trainloader,textloader):   #因为这个函数没有输入train_x和train_y所以直接用train_dl和text_dl来算正确率\n",
    "    correct=0                            #通过记录预测正确的个数和样本总数之间的比值来看正确率\n",
    "    total=0                              #总样本的个数\n",
    "    running_loss=0\n",
    "    for x,y in trainloader:    \n",
    "        y_pred=model(x)\n",
    "        loss=loss_fn(y_pred,y)\n",
    "        optim.zero_grad()\n",
    "        loss.backward()\n",
    "        optim.step()\n",
    "        with torch.no_grad():                  #每一个y值进行一次计算，这是对训练数据\n",
    "            y_pred=torch.argmax(y_pred,dim=1)\n",
    "            correct+=(y_pred==y).sum().item()  #每一次正确的个数加到correct里\n",
    "            total+=y.size(0)                   #每一批样本的个数\n",
    "            running_loss+=loss.item()          #每一批样本的loss\n",
    "        \n",
    "        epoch_acc=correct/total                #正确率为正确个数除以样本个数\n",
    "        epoch_loss=running_loss/len(trainloader.dataset)  #平均loss为一个批次的总loss除以训练的长度\n",
    "        \n",
    "        \n",
    "        text_correct=0                          #这是对测试数据 ,对于测试数据不用反向传播不用优化\n",
    "        text_total=0                              \n",
    "        text_running_loss=0\n",
    "        with torch.no_grad():                  \n",
    "             for x,y in textloader:    \n",
    "                y_pred=model(x)\n",
    "                loss=loss_fn(y_pred,y)\n",
    "                y_pred=torch.argmax(y_pred,dim=1)\n",
    "                text_correct+=(y_pred==y).sum().item() \n",
    "                text_total+=y.size(0)                   \n",
    "                text_running_loss+=loss.item()\n",
    "        \n",
    "        epoch_text_acc=text_correct/text_total                \n",
    "        epoch_text_loss=running_loss/len(textloader.dataset)  \n",
    "        \n",
    "        print('epoch: ',epoch,'loss: ',round(epoch_loss,3),\n",
    "                              'accuracy: ',round(epoch_acc,3),\n",
    "                              'text_loss: ',round(epoch_text_loss,3),\n",
    "                              'text_accuracy: ',round(epoch_text_acc,3))\n",
    "        return epoch_loss,epoch_acc,epoch_text_loss,epoch_text_acc  \n",
    "                                                    #这样就会将每个epoch上的这些平均正确率和平均损失返回"
   ]
  },
  {
   "cell_type": "code",
   "execution_count": 29,
   "metadata": {},
   "outputs": [
    {
     "data": {
      "text/plain": [
       "(torch.Size([150]), 150)"
      ]
     },
     "execution_count": 29,
     "metadata": {},
     "output_type": "execute_result"
    }
   ],
   "source": [
    "Y.size(),Y.size(0)"
   ]
  },
  {
   "cell_type": "code",
   "execution_count": 30,
   "metadata": {},
   "outputs": [
    {
     "data": {
      "text/plain": [
       "(torch.Size([150, 4]), 150, 4)"
      ]
     },
     "execution_count": 30,
     "metadata": {},
     "output_type": "execute_result"
    }
   ],
   "source": [
    "X.size(),X.size(0),X.size(1)"
   ]
  },
  {
   "cell_type": "code",
   "execution_count": 31,
   "metadata": {},
   "outputs": [
    {
     "data": {
      "text/plain": [
       "<torch.utils.data.dataset.TensorDataset at 0xd3e1d30>"
      ]
     },
     "execution_count": 31,
     "metadata": {},
     "output_type": "execute_result"
    }
   ],
   "source": [
    "train_dl.dataset"
   ]
  },
  {
   "cell_type": "code",
   "execution_count": 32,
   "metadata": {},
   "outputs": [
    {
     "data": {
      "text/plain": [
       "112"
      ]
     },
     "execution_count": 32,
     "metadata": {},
     "output_type": "execute_result"
    }
   ],
   "source": [
    "len(train_dl.dataset)"
   ]
  },
  {
   "cell_type": "markdown",
   "metadata": {},
   "source": [
    "# 调用fit函数"
   ]
  },
  {
   "cell_type": "code",
   "execution_count": 33,
   "metadata": {},
   "outputs": [],
   "source": [
    "model=Model()\n",
    "optim=torch.optim.Adam(model.parameters(),lr=0.001)"
   ]
  },
  {
   "cell_type": "code",
   "execution_count": 34,
   "metadata": {},
   "outputs": [],
   "source": [
    "epochs=20"
   ]
  },
  {
   "cell_type": "code",
   "execution_count": 35,
   "metadata": {},
   "outputs": [],
   "source": [
    "train_loss=[] #如果想把值保存下来就创建这四个列表\n",
    "train_acc=[]\n",
    "text_loss=[]\n",
    "text_acc=[]"
   ]
  },
  {
   "cell_type": "code",
   "execution_count": 36,
   "metadata": {},
   "outputs": [
    {
     "name": "stdout",
     "output_type": "stream",
     "text": [
      "epoch:  0 loss:  0.011 accuracy:  0.25 text_loss:  0.033 text_accuracy:  0.368\n",
      "epoch:  1 loss:  0.01 accuracy:  0.25 text_loss:  0.03 text_accuracy:  0.368\n",
      "epoch:  2 loss:  0.01 accuracy:  0.25 text_loss:  0.03 text_accuracy:  0.368\n",
      "epoch:  3 loss:  0.01 accuracy:  0.25 text_loss:  0.03 text_accuracy:  0.368\n",
      "epoch:  4 loss:  0.009 accuracy:  0.5 text_loss:  0.026 text_accuracy:  0.368\n",
      "epoch:  5 loss:  0.009 accuracy:  0.5 text_loss:  0.028 text_accuracy:  0.368\n",
      "epoch:  6 loss:  0.009 accuracy:  0.375 text_loss:  0.028 text_accuracy:  0.368\n",
      "epoch:  7 loss:  0.009 accuracy:  0.375 text_loss:  0.028 text_accuracy:  0.368\n",
      "epoch:  8 loss:  0.01 accuracy:  0.125 text_loss:  0.03 text_accuracy:  0.368\n",
      "epoch:  9 loss:  0.009 accuracy:  0.375 text_loss:  0.027 text_accuracy:  0.368\n",
      "epoch:  10 loss:  0.009 accuracy:  0.5 text_loss:  0.026 text_accuracy:  0.368\n",
      "epoch:  11 loss:  0.009 accuracy:  0.125 text_loss:  0.027 text_accuracy:  0.395\n",
      "epoch:  12 loss:  0.009 accuracy:  0.5 text_loss:  0.027 text_accuracy:  0.553\n",
      "epoch:  13 loss:  0.009 accuracy:  0.75 text_loss:  0.026 text_accuracy:  0.632\n",
      "epoch:  14 loss:  0.009 accuracy:  0.375 text_loss:  0.027 text_accuracy:  0.632\n",
      "epoch:  15 loss:  0.01 accuracy:  0.5 text_loss:  0.029 text_accuracy:  0.579\n",
      "epoch:  16 loss:  0.009 accuracy:  0.625 text_loss:  0.026 text_accuracy:  0.395\n",
      "epoch:  17 loss:  0.009 accuracy:  0.5 text_loss:  0.025 text_accuracy:  0.342\n",
      "epoch:  18 loss:  0.009 accuracy:  0.5 text_loss:  0.027 text_accuracy:  0.316\n",
      "epoch:  19 loss:  0.009 accuracy:  0.125 text_loss:  0.028 text_accuracy:  0.316\n"
     ]
    }
   ],
   "source": [
    "for epoch in range(epochs):\n",
    "    epoch_loss,epoch_acc,epoch_text_loss,epoch_text_acc =fit(epoch,model,train_dl,text_dl)\n",
    "    \n",
    "    train_loss.append(epoch_loss)\n",
    "    train_acc.append(epoch_acc)\n",
    "    text_loss.append(epoch_text_loss)\n",
    "    text_acc.append(epoch_text_acc)"
   ]
  },
  {
   "cell_type": "code",
   "execution_count": 37,
   "metadata": {},
   "outputs": [
    {
     "data": {
      "text/plain": [
       "Text(0, 0.5, 'loss')"
      ]
     },
     "execution_count": 37,
     "metadata": {},
     "output_type": "execute_result"
    },
    {
     "data": {
      "image/png": "[encoded data removed]",
      "text/plain": [
       "<Figure size 432x288 with 1 Axes>"
      ]
     },
     "metadata": {
      "needs_background": "light"
     },
     "output_type": "display_data"
    }
   ],
   "source": [
    "plt.plot(range(1,21),train_loss,label='train_loss')\n",
    "plt.plot(range(1,21),text_loss,label='text_loss')\n",
    "plt.legend()\n",
    "plt.ylabel('loss')"
   ]
  },
  {
   "cell_type": "code",
   "execution_count": 38,
   "metadata": {},
   "outputs": [
    {
     "data": {
      "text/plain": [
       "Text(0, 0.5, 'acc')"
      ]
     },
     "execution_count": 38,
     "metadata": {},
     "output_type": "execute_result"
    },
    {
     "data": {
      "image/png": "[encoded data removed]",
      "text/plain": [
       "<Figure size 432x288 with 1 Axes>"
      ]
     },
     "metadata": {
      "needs_background": "light"
     },
     "output_type": "display_data"
    }
   ],
   "source": [
    "plt.plot(range(1,21),train_acc,label='train_acc')\n",
    "plt.plot(range(1,21),text_acc,label='text_acc')\n",
    "plt.legend()\n",
    "plt.ylabel('acc')"
   ]
  },
  {
   "cell_type": "code",
   "execution_count": null,
   "metadata": {},
   "outputs": [],
   "source": []
  }
 ],
 "metadata": {
  "kernelspec": {
   "display_name": "Python 3",
   "language": "python",
   "name": "python3"
  },
  "language_info": {
   "codemirror_mode": {
    "name": "ipython",
    "version": 3
   },
   "file_extension": ".py",
   "mimetype": "text/x-python",
   "name": "python",
   "nbconvert_exporter": "python",
   "pygments_lexer": "ipython3",
   "version": "3.8.5"
  }
 },
 "nbformat": 4,
 "nbformat_minor": 4
}
